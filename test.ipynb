{
 "cells": [
  {
   "cell_type": "code",
   "execution_count": 1,
   "id": "10fdc120",
   "metadata": {},
   "outputs": [
    {
     "name": "stdout",
     "output_type": "stream",
     "text": [
      "Preview of vw_national_summary_by_season:\n",
      "      season  total_coaches total_parents  total_skiers  \\\n",
      "0  2024/2025           1676          None          2636   \n",
      "\n",
      "   evaluations_completed  drills_shared  \n",
      "0                  10285            470  \n"
     ]
    }
   ],
   "source": [
    "# scripts/preview_vw_season_summary.py\n",
    "\"\"\"\n",
    "Simple script to preview the first few rows of the\n",
    "vw_national_summary_by_season view using pandas.\n",
    "\"\"\"\n",
    "import pandas as pd\n",
    "from utils.db import engine\n",
    "\n",
    "\n",
    "def main():\n",
    "    # Read from the view into a DataFrame\n",
    "    df = pd.read_sql(\n",
    "        \"SELECT * FROM public.vw_national_summary_by_season ORDER BY season DESC;\",\n",
    "        engine\n",
    "    )\n",
    "\n",
    "    # Display the first 5 rows\n",
    "    print(\"Preview of vw_national_summary_by_season:\")\n",
    "    print(df.head())\n",
    "\n",
    "\n",
    "if __name__ == '__main__':\n",
    "    main()\n"
   ]
  }
 ],
 "metadata": {
  "kernelspec": {
   "display_name": "venv",
   "language": "python",
   "name": "python3"
  },
  "language_info": {
   "codemirror_mode": {
    "name": "ipython",
    "version": 3
   },
   "file_extension": ".py",
   "mimetype": "text/x-python",
   "name": "python",
   "nbconvert_exporter": "python",
   "pygments_lexer": "ipython3",
   "version": "3.12.0"
  }
 },
 "nbformat": 4,
 "nbformat_minor": 5
}
